{
 "cells": [
  {
   "cell_type": "markdown",
   "metadata": {
    "_cell_guid": "b1076dfc-b9ad-4769-8c92-a6c4dae69d19",
    "_uuid": "8f2839f25d086af736a60e9eeb907d3b93b6e0e5"
   },
   "source": [
    "# Insurance cost prediction using linear regression\n",
    "\n",
    "We're going to use information like a person's age, sex, BMI, no. of children and smoking habit to predict the price of yearly medical bills. This kind of model is useful for insurance companies to determine the yearly insurance premium for a person. The dataset for this problem is taken from: https://www.kaggle.com/mirichoi0218/insurance\n",
    "\n",
    "\n",
    "We will create a model with the following steps:\n",
    "1. Download and explore the dataset\n",
    "2. Prepare the dataset for training\n",
    "3. Create a linear regression model\n",
    "4. Train the model to fit the data\n",
    "5. Make predictions using the trained model\n",
    "\n",
    "\n",
    
   ]
  },
  {
   "cell_type": "code",
   "execution_count": 1,
   "metadata": {},
   "outputs": [
    {
     "name": "stdout",
     "output_type": "stream",
     "text": [
      "Collecting package metadata (current_repodata.json): done\n",
      "Solving environment: done\n",
      "\n",
      "\n",
      "==> WARNING: A newer version of conda exists. <==\n",
      "  current version: 4.8.2\n",
      "  latest version: 4.8.3\n",
      "\n",
      "Please update conda by running\n",
      "\n",
      "    $ conda update -n base conda\n",
      "\n",
      "\n",
      "\n",
      "# All requested packages already installed.\n",
      "\n"
     ]
    }
   ],
   "source": [
    "# Uncomment and run the commands below if imports fail\n",
    "!conda install numpy pytorch torchvision cpuonly -c pytorch -y\n",
    "!pip install matplotlib --upgrade --quiet\n",
    "!pip install jovian --upgrade --quiet"
   ]
  },
  {
   "cell_type": "code",
   "execution_count": 2,
   "metadata": {},
   "outputs": [
    {
     "name": "stdout",
     "output_type": "stream",
     "text": [
      "Requirement already satisfied: pandas in /srv/conda/envs/notebook/lib/python3.7/site-packages (1.0.4)\n",
      "Requirement already satisfied: pytz>=2017.2 in /srv/conda/envs/notebook/lib/python3.7/site-packages (from pandas) (2020.1)\n",
      "Requirement already satisfied: python-dateutil>=2.6.1 in /srv/conda/envs/notebook/lib/python3.7/site-packages (from pandas) (2.8.1)\n",
      "Requirement already satisfied: numpy>=1.13.3 in /srv/conda/envs/notebook/lib/python3.7/site-packages (from pandas) (1.18.4)\n",
      "Requirement already satisfied: six>=1.5 in /srv/conda/envs/notebook/lib/python3.7/site-packages (from python-dateutil>=2.6.1->pandas) (1.15.0)\n"
     ]
    }
   ],
   "source": [
    "!pip3 install pandas"
   ]
  },
  {
   "cell_type": "code",
   "execution_count": 3,
   "metadata": {},
   "outputs": [],
   "source": [
    "import torch\n",
    "import jovian\n",
    "import torchvision\n",
    "import torch.nn as nn\n",
    "import pandas as pd\n",
    "import matplotlib.pyplot as plt\n",
    "import torch.nn.functional as F\n",
    "from torchvision.datasets.utils import download_url\n",
    "from torch.utils.data import DataLoader, TensorDataset, random_split"
   ]
  },
  {
   "cell_type": "code",
   "execution_count": 4,
   "metadata": {},
   "outputs": [],
   "source": [
    "project_name='02-insurance-linear-regression' # will be used by jovian.commit"
   ]
  },
  {
   "cell_type": "markdown",
   "metadata": {},
   "source": [
    "## Step 1: Download and explore the data\n",
    "\n",
    "Let us begin by downloading the data. We'll use the `download_url` function from PyTorch to get the data as a CSV (comma-separated values) file. "
   ]
  },
  {
   "cell_type": "code",
   "execution_count": 5,
   "metadata": {
    "_cell_guid": "79c7e3d0-c299-4dcb-8224-4455121ee9b0",
    "_uuid": "d629ff2d2480ee46fbb7e2d37f6b5fab8052498a"
   },
   "outputs": [
    {
     "name": "stdout",
     "output_type": "stream",
     "text": [
      "Downloading https://hub.jovian.ml/wp-content/uploads/2020/05/insurance.csv to ./insurance.csv\n"
     ]
    },
    {
     "name": "stderr",
     "output_type": "stream",
     "text": [
      "103.1%"
     ]
    }
   ],
   "source": [
    "DATASET_URL = \"https://hub.jovian.ml/wp-content/uploads/2020/05/insurance.csv\"\n",
    "DATA_FILENAME = \"insurance.csv\"\n",
    "download_url(DATASET_URL, '.')"
   ]
  },
  {
   "cell_type": "markdown",
   "metadata": {},
   "source": [
    "To load the dataset into memory, we'll use the `read_csv` function from the `pandas` library. The data will be loaded as a Pandas dataframe. See this short tutorial to learn more: https://data36.com/pandas-tutorial-1-basics-reading-data-files-dataframes-data-selection/"
   ]
  },
  {
   "cell_type": "code",
   "execution_count": 6,
   "metadata": {},
   "outputs": [
    {
     "data": {
      "text/html": [
       "<div>\n",
       "<style scoped>\n",
       "    .dataframe tbody tr th:only-of-type {\n",
       "        vertical-align: middle;\n",
       "    }\n",
       "\n",
       "    .dataframe tbody tr th {\n",
       "        vertical-align: top;\n",
       "    }\n",
       "\n",
       "    .dataframe thead th {\n",
       "        text-align: right;\n",
       "    }\n",
       "</style>\n",
       "<table border=\"1\" class=\"dataframe\">\n",
       "  <thead>\n",
       "    <tr style=\"text-align: right;\">\n",
       "      <th></th>\n",
       "      <th>age</th>\n",
       "      <th>sex</th>\n",
       "      <th>bmi</th>\n",
       "      <th>children</th>\n",
       "      <th>smoker</th>\n",
       "      <th>region</th>\n",
       "      <th>charges</th>\n",
       "    </tr>\n",
       "  </thead>\n",
       "  <tbody>\n",
       "    <tr>\n",
       "      <th>0</th>\n",
       "      <td>19</td>\n",
       "      <td>female</td>\n",
       "      <td>27.900</td>\n",
       "      <td>0</td>\n",
       "      <td>yes</td>\n",
       "      <td>southwest</td>\n",
       "      <td>16884.92400</td>\n",
       "    </tr>\n",
       "    <tr>\n",
       "      <th>1</th>\n",
       "      <td>18</td>\n",
       "      <td>male</td>\n",
       "      <td>33.770</td>\n",
       "      <td>1</td>\n",
       "      <td>no</td>\n",
       "      <td>southeast</td>\n",
       "      <td>1725.55230</td>\n",
       "    </tr>\n",
       "    <tr>\n",
       "      <th>2</th>\n",
       "      <td>28</td>\n",
       "      <td>male</td>\n",
       "      <td>33.000</td>\n",
       "      <td>3</td>\n",
       "      <td>no</td>\n",
       "      <td>southeast</td>\n",
       "      <td>4449.46200</td>\n",
       "    </tr>\n",
       "    <tr>\n",
       "      <th>3</th>\n",
       "      <td>33</td>\n",
       "      <td>male</td>\n",
       "      <td>22.705</td>\n",
       "      <td>0</td>\n",
       "      <td>no</td>\n",
       "      <td>northwest</td>\n",
       "      <td>21984.47061</td>\n",
       "    </tr>\n",
       "    <tr>\n",
       "      <th>4</th>\n",
       "      <td>32</td>\n",
       "      <td>male</td>\n",
       "      <td>28.880</td>\n",
       "      <td>0</td>\n",
       "      <td>no</td>\n",
       "      <td>northwest</td>\n",
       "      <td>3866.85520</td>\n",
       "    </tr>\n",
       "  </tbody>\n",
       "</table>\n",
       "</div>"
      ],
      "text/plain": [
       "   age     sex     bmi  children smoker     region      charges\n",
       "0   19  female  27.900         0    yes  southwest  16884.92400\n",
       "1   18    male  33.770         1     no  southeast   1725.55230\n",
       "2   28    male  33.000         3     no  southeast   4449.46200\n",
       "3   33    male  22.705         0     no  northwest  21984.47061\n",
       "4   32    male  28.880         0     no  northwest   3866.85520"
      ]
     },
     "execution_count": 6,
     "metadata": {},
     "output_type": "execute_result"
    }
   ],
   "source": [
    "dataframe_raw = pd.read_csv(DATA_FILENAME)\n",
    "dataframe_raw.head()"
   ]
  },
  {
   "cell_type": "markdown",
   "metadata": {},
   "source": [
    "We're going to do a slight customization of the data, so that you every participant receives a slightly different version of the dataset. Fill in your name below as a string (enter at least 5 characters)"
   ]
  },
  {
   "cell_type": "code",
   "execution_count": 7,
   "metadata": {},
   "outputs": [],
   "source": [
    "your_name = \"Mukundan\""
   ]
  },
  {
   "cell_type": "markdown",
   "metadata": {},
   "source": [
    "The `customize_dataset` function will customize the dataset slightly using your name as a source of random numbers."
   ]
  },
  {
   "cell_type": "code",
   "execution_count": 8,
   "metadata": {},
   "outputs": [],
   "source": [
    "def customize_dataset(dataframe_raw, rand_str):\n",
    "    dataframe = dataframe_raw.copy(deep=True)\n",
    "    # drop some rows\n",
    "    dataframe = dataframe.sample(int(0.95*len(dataframe)), random_state=int(ord(rand_str[0])))\n",
    "    # scale input\n",
    "    dataframe.bmi = dataframe.bmi * ord(rand_str[1])/100.\n",
    "    # scale target\n",
    "    dataframe.charges = dataframe.charges * ord(rand_str[2])/100.\n",
    "    # drop column\n",
    "    if ord(rand_str[3]) % 2 == 1:\n",
    "        dataframe = dataframe.drop(['region'], axis=1)\n",
    "    return dataframe"
   ]
  },
  {
   "cell_type": "code",
   "execution_count": 9,
   "metadata": {},
   "outputs": [
    {
     "data": {
      "text/html": [
       "<div>\n",
       "<style scoped>\n",
       "    .dataframe tbody tr th:only-of-type {\n",
       "        vertical-align: middle;\n",
       "    }\n",
       "\n",
       "    .dataframe tbody tr th {\n",
       "        vertical-align: top;\n",
       "    }\n",
       "\n",
       "    .dataframe thead th {\n",
       "        text-align: right;\n",
       "    }\n",
       "</style>\n",
       "<table border=\"1\" class=\"dataframe\">\n",
       "  <thead>\n",
       "    <tr style=\"text-align: right;\">\n",
       "      <th></th>\n",
       "      <th>age</th>\n",
       "      <th>sex</th>\n",
       "      <th>bmi</th>\n",
       "      <th>children</th>\n",
       "      <th>smoker</th>\n",
       "      <th>charges</th>\n",
       "    </tr>\n",
       "  </thead>\n",
       "  <tbody>\n",
       "    <tr>\n",
       "      <th>27</th>\n",
       "      <td>55</td>\n",
       "      <td>female</td>\n",
       "      <td>38.34675</td>\n",
       "      <td>2</td>\n",
       "      <td>no</td>\n",
       "      <td>13127.436508</td>\n",
       "    </tr>\n",
       "    <tr>\n",
       "      <th>38</th>\n",
       "      <td>35</td>\n",
       "      <td>male</td>\n",
       "      <td>42.90390</td>\n",
       "      <td>1</td>\n",
       "      <td>yes</td>\n",
       "      <td>42558.475641</td>\n",
       "    </tr>\n",
       "    <tr>\n",
       "      <th>441</th>\n",
       "      <td>33</td>\n",
       "      <td>female</td>\n",
       "      <td>39.19500</td>\n",
       "      <td>0</td>\n",
       "      <td>yes</td>\n",
       "      <td>39674.928040</td>\n",
       "    </tr>\n",
       "    <tr>\n",
       "      <th>1068</th>\n",
       "      <td>63</td>\n",
       "      <td>male</td>\n",
       "      <td>25.34220</td>\n",
       "      <td>1</td>\n",
       "      <td>no</td>\n",
       "      <td>15354.344208</td>\n",
       "    </tr>\n",
       "    <tr>\n",
       "      <th>1310</th>\n",
       "      <td>42</td>\n",
       "      <td>male</td>\n",
       "      <td>30.78855</td>\n",
       "      <td>1</td>\n",
       "      <td>no</td>\n",
       "      <td>7426.773539</td>\n",
       "    </tr>\n",
       "  </tbody>\n",
       "</table>\n",
       "</div>"
      ],
      "text/plain": [
       "      age     sex       bmi  children smoker       charges\n",
       "27     55  female  38.34675         2     no  13127.436508\n",
       "38     35    male  42.90390         1    yes  42558.475641\n",
       "441    33  female  39.19500         0    yes  39674.928040\n",
       "1068   63    male  25.34220         1     no  15354.344208\n",
       "1310   42    male  30.78855         1     no   7426.773539"
      ]
     },
     "execution_count": 9,
     "metadata": {},
     "output_type": "execute_result"
    }
   ],
   "source": [
    "dataframe = customize_dataset(dataframe_raw, your_name)\n",
    "dataframe.head()"
   ]
  },
  {
   "cell_type": "markdown",
   "metadata": {},
   "source": [
    "Let us answer some basic questions about the dataset. \n",
    "\n",
    "\n",
    "**Q: How many rows does the dataset have?**"
   ]
  },
  {
   "cell_type": "code",
   "execution_count": 10,
   "metadata": {},
   "outputs": [
    {
     "name": "stdout",
     "output_type": "stream",
     "text": [
      "1271\n"
     ]
    }
   ],
   "source": [
    "num_rows = len(dataframe)\n",
    "print(num_rows)"
   ]
  },
  {
   "cell_type": "markdown",
   "metadata": {},
   "source": [
    "This dataset has 1271 rows"
   ]
  },
  {
   "cell_type": "markdown",
   "metadata": {},
   "source": [
    "**Q: How many columns doe the dataset have**"
   ]
  },
  {
   "cell_type": "code",
   "execution_count": 11,
   "metadata": {},
   "outputs": [
    {
     "name": "stdout",
     "output_type": "stream",
     "text": [
      "6\n"
     ]
    }
   ],
   "source": [
    "num_cols = len(dataframe.columns)\n",
    "print(num_cols)"
   ]
  },
  {
   "cell_type": "markdown",
   "metadata": {},
   "source": [
    "This dataset has 6 columns"
   ]
  },
  {
   "cell_type": "markdown",
   "metadata": {},
   "source": [
    "**Q: What are the column titles of the input variables?**"
   ]
  },
  {
   "cell_type": "code",
   "execution_count": 12,
   "metadata": {},
   "outputs": [],
   "source": [
    "input_cols = ['age', 'sex', 'bmi', 'children', 'smoker', 'charges']"
   ]
  },
  {
   "cell_type": "markdown",
   "metadata": {},
   "source": [
    "The above are column titles for the input variables"
   ]
  },
  {
   "cell_type": "markdown",
   "metadata": {},
   "source": [
    "**Q: Which of the input columns are non-numeric or categorial variables ?**\n",
    "\n",
    "Hint: `sex` is one of them. List the columns that are not numbers."
   ]
  },
  {
   "cell_type": "code",
   "execution_count": 13,
   "metadata": {},
   "outputs": [],
   "source": [
    "categorical_cols = ['smoker','sex']"
   ]
  },
  {
   "cell_type": "markdown",
   "metadata": {},
   "source": [
    "Smoker and sex are the 2 categorical columns"
   ]
  },
  {
   "cell_type": "markdown",
   "metadata": {},
   "source": [
    "**Q: What are the column titles of output/target variable(s)?**"
   ]
  },
  {
   "cell_type": "code",
   "execution_count": 14,
   "metadata": {},
   "outputs": [],
   "source": [
    "output_cols = ['charges']"
   ]
  },
  {
   "cell_type": "markdown",
   "metadata": {},
   "source": [
    "charges is the output variable which we are trying to predict."
   ]
  },
  {
   "cell_type": "markdown",
   "metadata": {},
   "source": [
    "**What is the minimum, maximum and average value of the `charges` column? Can you show the distribution of values in a graph?**\n",
    "Use this data visualization cheatsheet for referece: https://jovian.ml/aakashns/dataviz-cheatsheet"
   ]
  },
  {
   "cell_type": "code",
   "execution_count": 15,
   "metadata": {},
   "outputs": [
    {
     "data": {
      "text/plain": [
       "count     1271.000000\n",
       "mean     14192.080118\n",
       "std      12976.038861\n",
       "min       1200.405073\n",
       "25%       5050.004421\n",
       "50%       9953.026099\n",
       "75%      17849.098942\n",
       "max      68234.357971\n",
       "Name: charges, dtype: float64"
      ]
     },
     "execution_count": 15,
     "metadata": {},
     "output_type": "execute_result"
    }
   ],
   "source": [
    "dataframe['charges'].describe()"
   ]
  },
  {
   "cell_type": "markdown",
   "metadata": {},
   "source": [
    "This describe command tells us the minimum is 1200"
   ]
  },
  {
   "cell_type": "code",
   "execution_count": 16,
   "metadata": {},
   "outputs": [
    {
     "data": {
      "image/png": "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\n",
      "text/plain": [
       "<Figure size 432x288 with 1 Axes>"
      ]
     },
     "metadata": {
      "needs_background": "light"
     },
     "output_type": "display_data"
    }
   ],
   "source": [
    "#!pip install seaborn as sns\n",
    "import seaborn as sns\n",
    "# Chart title\n",
    "plt.title(\"Distribution of Premium Charges\")\n",
    "\n",
    "# Draw a nested boxplot to show bills by day and time\n",
    "#sns.boxplot(dataframe.charges);\n",
    "\n",
    "sns.distplot(dataframe.charges,bins=20, color='g',rug=True,kde=False);"
   ]
  },
  {
   "cell_type": "markdown",
   "metadata": {},
   "source": [
    "Remember to commit your notebook to Jovian after every step, so that you don't lose your work."
   ]
  },
  {
   "cell_type": "code",
   "execution_count": 17,
   "metadata": {},
   "outputs": [
    {
     "data": {
      "application/javascript": [
       "window.require && require([\"base/js/namespace\"],function(Jupyter){Jupyter.notebook.save_checkpoint()})"
      ],
      "text/plain": [
       "<IPython.core.display.Javascript object>"
      ]
     },
     "metadata": {},
     "output_type": "display_data"
    },
    {
     "name": "stdout",
     "output_type": "stream",
     "text": [
      "[jovian] Attempting to save notebook..\u001b[0m\n",
      "[jovian] Please enter your API key ( from https://jovian.ml/ ):\u001b[0m\n",
      "API KEY: ········\n",
      "[jovian] Creating a new project \"mukundan-sankar14/02-insurance-linear-regression\"\u001b[0m\n",
      "[jovian] Uploading notebook..\u001b[0m\n",
      "[jovian] Committed successfully! https://jovian.ml/mukundan-sankar14/02-insurance-linear-regression\u001b[0m\n"
     ]
    },
    {
     "data": {
      "text/plain": [
       "'https://jovian.ml/mukundan-sankar14/02-insurance-linear-regression'"
      ]
     },
     "execution_count": 17,
     "metadata": {},
     "output_type": "execute_result"
    }
   ],
   "source": [
    "jovian.commit(project=project_name, environment=None)"
   ]
  },
  {
   "cell_type": "markdown",
   "metadata": {},
   "source": [
    "## Step 2: Prepare the dataset for training\n",
    "\n",
    "We need to convert the data from the Pandas dataframe into a PyTorch tensors for training. To do this, the first step is to convert it numpy arrays. If you've filled out `input_cols`, `categorial_cols` and `output_cols` correctly, this following function will perform the conversion to numpy arrays."
   ]
  },
  {
   "cell_type": "code",
   "execution_count": 18,
   "metadata": {},
   "outputs": [],
   "source": [
    "def dataframe_to_arrays(dataframe):\n",
    "    # Make a copy of the original dataframe\n",
    "    dataframe1 = dataframe.copy(deep=True)\n",
    "    # Convert non-numeric categorical columns to numbers\n",
    "    for col in categorical_cols:\n",
    "        dataframe1[col] = dataframe1[col].astype('category').cat.codes\n",
    "    # Extract input & outupts as numpy arrays\n",
    "    inputs_array = dataframe1[input_cols].to_numpy()\n",
    "    targets_array = dataframe1[output_cols].to_numpy()\n",
    "    return inputs_array, targets_array"
   ]
  },
  {
   "cell_type": "markdown",
   "metadata": {},
   "source": [
    "Read through the [Pandas documentation](https://pandas.pydata.org/pandas-docs/stable/user_guide/categorical.html) to understand how we're converting categorical variables into numbers."
   ]
  },
  {
   "cell_type": "code",
   "execution_count": 19,
   "metadata": {},
   "outputs": [
    {
     "data": {
      "text/plain": [
       "(array([[5.50000000e+01, 0.00000000e+00, 3.83467500e+01, 2.00000000e+00,\n",
       "         0.00000000e+00, 1.31274365e+04],\n",
       "        [3.50000000e+01, 1.00000000e+00, 4.29039000e+01, 1.00000000e+00,\n",
       "         1.00000000e+00, 4.25584756e+04],\n",
       "        [3.30000000e+01, 0.00000000e+00, 3.91950000e+01, 0.00000000e+00,\n",
       "         1.00000000e+00, 3.96749280e+04],\n",
       "        ...,\n",
       "        [2.90000000e+01, 1.00000000e+00, 4.36293000e+01, 2.00000000e+00,\n",
       "         0.00000000e+00, 4.34218423e+03],\n",
       "        [2.60000000e+01, 1.00000000e+00, 2.77290000e+01, 2.00000000e+00,\n",
       "         0.00000000e+00, 3.72823417e+03],\n",
       "        [1.80000000e+01, 0.00000000e+00, 3.73464000e+01, 0.00000000e+00,\n",
       "         0.00000000e+00, 2.36039946e+03]]),\n",
       " array([[13127.4365075],\n",
       "        [42558.475641 ],\n",
       "        [39674.92804  ],\n",
       "        ...,\n",
       "        [ 4342.184227 ],\n",
       "        [ 3728.23417  ],\n",
       "        [ 2360.399456 ]]))"
      ]
     },
     "execution_count": 19,
     "metadata": {},
     "output_type": "execute_result"
    }
   ],
   "source": [
    "inputs_array, targets_array = dataframe_to_arrays(dataframe)\n",
    "inputs_array, targets_array"
   ]
  },
  {
   "cell_type": "markdown",
   "metadata": {},
   "source": [
    "**Q: Convert the numpy arrays `inputs_array` and `targets_array` into PyTorch tensors. Make sure that the data type is `torch.float32`.**"
   ]
  },
  {
   "cell_type": "code",
   "execution_count": 22,
   "metadata": {},
   "outputs": [],
   "source": [
    "import numpy as np\n",
    "inputs = torch.from_numpy(np.array(inputs_array,dtype=np.float32))\n",
    "targets = torch.from_numpy(np.array(targets_array,dtype=np.float32))"
   ]
  },
  {
   "cell_type": "code",
   "execution_count": 23,
   "metadata": {},
   "outputs": [
    {
     "data": {
      "text/plain": [
       "(torch.float32, torch.float32)"
      ]
     },
     "execution_count": 23,
     "metadata": {},
     "output_type": "execute_result"
    }
   ],
   "source": [
    "inputs.dtype, targets.dtype"
   ]
  },
  {
   "cell_type": "markdown",
   "metadata": {},
   "source": [
    "Next, we need to create PyTorch datasets & data loaders for training & validation. We'll start by creating a `TensorDataset`."
   ]
  },
  {
   "cell_type": "code",
   "execution_count": 24,
   "metadata": {},
   "outputs": [],
   "source": [
    "dataset = TensorDataset(inputs, targets)"
   ]
  },
  {
   "cell_type": "markdown",
   "metadata": {},
   "source": [
    "**Q: Pick a number between `0.1` and `0.2` to determine the fraction of data that will be used for creating the validation set. Then use `random_split` to create training & validation datasets. **"
   ]
  },
  {
   "cell_type": "code",
   "execution_count": 26,
   "metadata": {},
   "outputs": [],
   "source": [
    "val_percent = 0.2 # between 0.1 and 0.2\n",
    "val_size = int(num_rows * val_percent)\n",
    "train_size = num_rows - val_size\n",
    "\n",
    "\n",
    "train_ds, val_ds = random_split(dataset,[train_size,val_size]) # Use the random_split function to split dataset into 2 parts of the desired length"
   ]
  },
  {
   "cell_type": "markdown",
   "metadata": {},
   "source": [
    "Finally, we can create data loaders for training & validation.\n",
    "\n",
    "**Q: Pick a batch size for the data loader.**"
   ]
  },
  {
   "cell_type": "code",
   "execution_count": 27,
   "metadata": {},
   "outputs": [],
   "source": [
    "batch_size = 64"
   ]
  },
  {
   "cell_type": "code",
   "execution_count": 28,
   "metadata": {},
   "outputs": [],
   "source": [
    "train_loader = DataLoader(train_ds, batch_size, shuffle=True)\n",
    "val_loader = DataLoader(val_ds, batch_size)"
   ]
  },
  {
   "cell_type": "markdown",
   "metadata": {},
   "source": [
    "Let's look at a batch of data to verify everything is working fine so far."
   ]
  },
  {
   "cell_type": "code",
   "execution_count": 29,
   "metadata": {},
   "outputs": [
    {
     "name": "stdout",
     "output_type": "stream",
     "text": [
      "inputs: tensor([[2.7000e+01, 0.0000e+00, 3.5790e+01, 1.0000e+00, 0.0000e+00, 1.7972e+04],\n",
      "        [3.9000e+01, 0.0000e+00, 4.8906e+01, 0.0000e+00, 0.0000e+00, 6.0586e+03],\n",
      "        [5.3000e+01, 1.0000e+00, 3.3462e+01, 3.0000e+00, 0.0000e+00, 1.2041e+04],\n",
      "        [4.4000e+01, 1.0000e+00, 3.5907e+01, 2.0000e+00, 0.0000e+00, 8.2726e+03],\n",
      "        [5.1000e+01, 1.0000e+00, 3.7013e+01, 0.0000e+00, 0.0000e+00, 9.8163e+03],\n",
      "        [5.9000e+01, 0.0000e+00, 4.2728e+01, 1.0000e+00, 0.0000e+00, 3.0268e+04],\n",
      "        [3.6000e+01, 1.0000e+00, 3.2234e+01, 3.0000e+00, 0.0000e+00, 7.2190e+03],\n",
      "        [6.4000e+01, 0.0000e+00, 3.7235e+01, 2.0000e+00, 0.0000e+00, 1.7194e+04],\n",
      "        [3.9000e+01, 0.0000e+00, 2.7232e+01, 3.0000e+00, 0.0000e+00, 8.5455e+03],\n",
      "        [6.2000e+01, 0.0000e+00, 2.9250e+01, 0.0000e+00, 0.0000e+00, 1.4393e+04],\n",
      "        [4.8000e+01, 0.0000e+00, 3.2678e+01, 4.0000e+00, 0.0000e+00, 1.1786e+04],\n",
      "        [2.3000e+01, 0.0000e+00, 4.0903e+01, 3.0000e+00, 0.0000e+00, 4.7793e+03],\n",
      "        [5.6000e+01, 0.0000e+00, 4.9035e+01, 0.0000e+00, 0.0000e+00, 1.1870e+04],\n",
      "        [4.8000e+01, 1.0000e+00, 3.4749e+01, 0.0000e+00, 0.0000e+00, 8.3349e+03],\n",
      "        [5.7000e+01, 1.0000e+00, 3.3901e+01, 0.0000e+00, 1.0000e+00, 2.9124e+04],\n",
      "        [6.4000e+01, 1.0000e+00, 4.3243e+01, 2.0000e+00, 1.0000e+00, 5.3048e+04],\n",
      "        [2.7000e+01, 0.0000e+00, 2.3453e+01, 3.0000e+00, 1.0000e+00, 1.7570e+04],\n",
      "        [3.8000e+01, 1.0000e+00, 2.2581e+01, 0.0000e+00, 1.0000e+00, 1.6928e+04],\n",
      "        [4.2000e+01, 0.0000e+00, 3.1122e+01, 0.0000e+00, 1.0000e+00, 2.2843e+04],\n",
      "        [3.3000e+01, 1.0000e+00, 3.9125e+01, 5.0000e+00, 0.0000e+00, 7.1196e+03],\n",
      "        [1.9000e+01, 0.0000e+00, 3.3228e+01, 1.0000e+00, 0.0000e+00, 2.4947e+03],\n",
      "        [6.1000e+01, 0.0000e+00, 2.5787e+01, 0.0000e+00, 0.0000e+00, 1.4570e+04],\n",
      "        [3.5000e+01, 1.0000e+00, 3.2304e+01, 1.0000e+00, 0.0000e+00, 5.0793e+03],\n",
      "        [5.3000e+01, 0.0000e+00, 3.1122e+01, 0.0000e+00, 0.0000e+00, 1.1081e+04],\n",
      "        [1.9000e+01, 1.0000e+00, 4.0716e+01, 0.0000e+00, 1.0000e+00, 3.7214e+04],\n",
      "        [5.6000e+01, 1.0000e+00, 3.7194e+01, 2.0000e+00, 1.0000e+00, 4.6881e+04],\n",
      "        [2.9000e+01, 0.0000e+00, 2.8782e+01, 2.0000e+00, 0.0000e+00, 4.8465e+03],\n",
      "        [5.4000e+01, 1.0000e+00, 3.5346e+01, 0.0000e+00, 0.0000e+00, 1.0948e+04],\n",
      "        [6.0000e+01, 0.0000e+00, 2.8121e+01, 0.0000e+00, 0.0000e+00, 1.3923e+04],\n",
      "        [4.8000e+01, 0.0000e+00, 4.2793e+01, 0.0000e+00, 0.0000e+00, 9.2782e+03],\n",
      "        [4.3000e+01, 1.0000e+00, 3.8142e+01, 2.0000e+00, 0.0000e+00, 7.9624e+03],\n",
      "        [2.8000e+01, 1.0000e+00, 2.8431e+01, 5.0000e+00, 0.0000e+00, 6.0084e+03],\n",
      "        [2.7000e+01, 1.0000e+00, 3.3345e+01, 0.0000e+00, 1.0000e+00, 1.9592e+04],\n",
      "        [3.3000e+01, 0.0000e+00, 3.3076e+01, 1.0000e+00, 0.0000e+00, 5.1142e+03],\n",
      "        [6.1000e+01, 0.0000e+00, 3.5006e+01, 3.0000e+00, 1.0000e+00, 3.3108e+04],\n",
      "        [2.5000e+01, 0.0000e+00, 2.8431e+01, 3.0000e+00, 0.0000e+00, 4.6991e+03],\n",
      "        [5.2000e+01, 1.0000e+00, 3.9897e+01, 0.0000e+00, 0.0000e+00, 9.7808e+03],\n",
      "        [1.9000e+01, 0.0000e+00, 2.0826e+01, 0.0000e+00, 0.0000e+00, 1.8487e+03],\n",
      "        [3.3000e+01, 1.0000e+00, 3.5393e+01, 0.0000e+00, 0.0000e+00, 3.9637e+03],\n",
      "        [4.5000e+01, 0.0000e+00, 4.1301e+01, 0.0000e+00, 0.0000e+00, 7.8625e+03],\n",
      "        [1.9000e+01, 0.0000e+00, 2.8899e+01, 0.0000e+00, 0.0000e+00, 1.8590e+03],\n",
      "        [6.2000e+01, 0.0000e+00, 4.4571e+01, 2.0000e+00, 0.0000e+00, 1.6296e+04],\n",
      "        [3.3000e+01, 1.0000e+00, 4.1827e+01, 1.0000e+00, 1.0000e+00, 4.0963e+04],\n",
      "        [4.3000e+01, 0.0000e+00, 3.1455e+01, 0.0000e+00, 1.0000e+00, 2.3299e+04],\n",
      "        [2.6000e+01, 0.0000e+00, 3.4492e+01, 1.0000e+00, 0.0000e+00, 3.6298e+03],\n",
      "        [2.8000e+01, 1.0000e+00, 2.7846e+01, 2.0000e+00, 0.0000e+00, 4.1170e+03],\n",
      "        [5.2000e+01, 0.0000e+00, 2.1452e+01, 0.0000e+00, 0.0000e+00, 1.0690e+04],\n",
      "        [2.4000e+01, 1.0000e+00, 4.1956e+01, 0.0000e+00, 0.0000e+00, 2.1260e+03],\n",
      "        [1.8000e+01, 1.0000e+00, 3.8996e+01, 0.0000e+00, 0.0000e+00, 1.2155e+03],\n",
      "        [1.9000e+01, 1.0000e+00, 3.3228e+01, 1.0000e+00, 0.0000e+00, 1.9715e+03],\n",
      "        [4.0000e+01, 0.0000e+00, 4.2342e+01, 0.0000e+00, 0.0000e+00, 6.3345e+03],\n",
      "        [6.1000e+01, 0.0000e+00, 5.1480e+01, 0.0000e+00, 0.0000e+00, 1.3978e+04],\n",
      "        [3.0000e+01, 0.0000e+00, 3.3234e+01, 1.0000e+00, 0.0000e+00, 4.8441e+03],\n",
      "        [5.1000e+01, 0.0000e+00, 4.4144e+01, 1.0000e+00, 0.0000e+00, 1.0569e+04],\n",
      "        [2.9000e+01, 1.0000e+00, 3.3901e+01, 1.0000e+00, 0.0000e+00, 4.3234e+03],\n",
      "        [5.1000e+01, 1.0000e+00, 4.6449e+01, 1.0000e+00, 0.0000e+00, 1.0049e+04],\n",
      "        [5.0000e+01, 1.0000e+00, 2.9601e+01, 0.0000e+00, 0.0000e+00, 9.0337e+03],\n",
      "        [3.9000e+01, 1.0000e+00, 3.5012e+01, 1.0000e+00, 1.0000e+00, 2.4034e+04],\n",
      "        [1.8000e+01, 0.0000e+00, 3.6680e+01, 4.0000e+00, 0.0000e+00, 4.8805e+03],\n",
      "        [4.7000e+01, 1.0000e+00, 2.2452e+01, 1.0000e+00, 0.0000e+00, 9.2315e+03],\n",
      "        [4.1000e+01, 1.0000e+00, 3.3696e+01, 1.0000e+00, 0.0000e+00, 6.7220e+03],\n",
      "        [4.3000e+01, 1.0000e+00, 2.9858e+01, 5.0000e+00, 0.0000e+00, 1.5492e+04],\n",
      "        [6.0000e+01, 1.0000e+00, 4.7876e+01, 0.0000e+00, 1.0000e+00, 5.2081e+04],\n",
      "        [5.7000e+01, 0.0000e+00, 3.4878e+01, 0.0000e+00, 1.0000e+00, 2.9461e+04]])\n",
      "targets: tensor([[17972.1602],\n",
      "        [ 6058.5806],\n",
      "        [12041.1602],\n",
      "        [ 8272.6270],\n",
      "        [ 9816.3252],\n",
      "        [30268.0508],\n",
      "        [ 7219.0146],\n",
      "        [17193.9199],\n",
      "        [ 8545.5283],\n",
      "        [14392.7002],\n",
      "        [11786.2373],\n",
      "        [ 4779.2847],\n",
      "        [11870.1768],\n",
      "        [ 8334.9092],\n",
      "        [29123.7285],\n",
      "        [53048.0977],\n",
      "        [17569.9297],\n",
      "        [16928.1484],\n",
      "        [22843.1152],\n",
      "        [ 7119.5537],\n",
      "        [ 2494.7253],\n",
      "        [14569.5039],\n",
      "        [ 5079.3467],\n",
      "        [11080.5361],\n",
      "        [37214.1875],\n",
      "        [46880.8359],\n",
      "        [ 4846.5405],\n",
      "        [10947.7051],\n",
      "        [13923.0635],\n",
      "        [ 9278.1748],\n",
      "        [ 7962.4062],\n",
      "        [ 6008.4448],\n",
      "        [19592.4941],\n",
      "        [ 5114.1743],\n",
      "        [33108.1445],\n",
      "        [ 4699.0679],\n",
      "        [ 9780.8174],\n",
      "        [ 1848.7300],\n",
      "        [ 3963.6594],\n",
      "        [ 7862.5117],\n",
      "        [ 1858.9923],\n",
      "        [16296.4463],\n",
      "        [40962.5430],\n",
      "        [23298.5254],\n",
      "        [ 3629.8308],\n",
      "        [ 4117.0112],\n",
      "        [10690.4102],\n",
      "        [ 2126.0188],\n",
      "        [ 1215.4565],\n",
      "        [ 1971.4954],\n",
      "        [ 6334.5112],\n",
      "        [13978.3545],\n",
      "        [ 4844.0859],\n",
      "        [10569.0400],\n",
      "        [ 4323.3975],\n",
      "        [10048.7402],\n",
      "        [ 9033.6533],\n",
      "        [24034.3867],\n",
      "        [ 4880.4717],\n",
      "        [ 9231.4688],\n",
      "        [ 6721.9912],\n",
      "        [15491.8135],\n",
      "        [52080.7070],\n",
      "        [29461.2871]])\n"
     ]
    }
   ],
   "source": [
    "for xb, yb in train_loader:\n",
    "    print(\"inputs:\", xb)\n",
    "    print(\"targets:\", yb)\n",
    "    break"
   ]
  },
  {
   "cell_type": "markdown",
   "metadata": {},
   "source": [
    "Let's save our work by committing to Jovian."
   ]
  },
  {
   "cell_type": "code",
   "execution_count": 30,
   "metadata": {},
   "outputs": [
    {
     "data": {
      "application/javascript": [
       "window.require && require([\"base/js/namespace\"],function(Jupyter){Jupyter.notebook.save_checkpoint()})"
      ],
      "text/plain": [
       "<IPython.core.display.Javascript object>"
      ]
     },
     "metadata": {},
     "output_type": "display_data"
    },
    {
     "name": "stdout",
     "output_type": "stream",
     "text": [
      "[jovian] Attempting to save notebook..\u001b[0m\n",
      "[jovian] Updating notebook \"mukundan-sankar14/02-insurance-linear-regression\" on https://jovian.ml/\u001b[0m\n",
      "[jovian] Uploading notebook..\u001b[0m\n",
      "[jovian] Committed successfully! https://jovian.ml/mukundan-sankar14/02-insurance-linear-regression\u001b[0m\n"
     ]
    },
    {
     "data": {
      "text/plain": [
       "'https://jovian.ml/mukundan-sankar14/02-insurance-linear-regression'"
      ]
     },
     "execution_count": 30,
     "metadata": {},
     "output_type": "execute_result"
    }
   ],
   "source": [
    "jovian.commit(project=project_name, environment=None)"
   ]
  },
  {
   "cell_type": "markdown",
   "metadata": {},
   "source": [
    "## Step 3: Create a Linear Regression Model\n",
    "\n",
    "Our model itself is a fairly straightforward linear regression (we'll build more complex models in the next assignment). \n"
   ]
  },
  {
   "cell_type": "code",
   "execution_count": 31,
   "metadata": {},
   "outputs": [],
   "source": [
    "input_size = len(input_cols)\n",
    "output_size = len(output_cols)"
   ]
  },
  {
   "cell_type": "markdown",
   "metadata": {},
   "source": [
    "**Q: Complete the class definition below by filling out the constructor (`__init__`), `forward`, `training_step` and `validation_step` methods.**\n",
    "\n",
    "Hint: Think carefully about picking a good loss fuction (it's not cross entropy). Maybe try 2-3 of them and see which one works best. See https://pytorch.org/docs/stable/nn.functional.html#loss-functions"
   ]
  },
  {
   "cell_type": "code",
   "execution_count": 32,
   "metadata": {},
   "outputs": [],
   "source": [
    "class InsuranceModel(nn.Module):\n",
    "    def __init__(self):\n",
    "        super().__init__()\n",
    "        self.linear = nn.Linear(input_size,output_size)                  # fill this (hint: use input_size & output_size defined above)\n",
    "        \n",
    "    def forward(self, xb):\n",
    "        out = self.linear(xb)                          # fill this\n",
    "        return out\n",
    "    \n",
    "    def training_step(self, batch):\n",
    "        inputs, targets = batch \n",
    "        # Generate predictions\n",
    "        out = self(inputs)          \n",
    "        # Calcuate loss\n",
    "        loss = F.smooth_l1_loss(out,targets)                          # fill this\n",
    "        return loss\n",
    "    \n",
    "    def validation_step(self, batch):\n",
    "        inputs, targets = batch\n",
    "        # Generate predictions\n",
    "        out = self(inputs)\n",
    "        # Calculate loss\n",
    "        loss = F.smooth_l1_loss(out,targets)                          # fill this    \n",
    "        return {'val_loss': loss.detach()}\n",
    "        \n",
    "    def validation_epoch_end(self, outputs):\n",
    "        batch_losses = [x['val_loss'] for x in outputs]\n",
    "        epoch_loss = torch.stack(batch_losses).mean()   # Combine losses\n",
    "        return {'val_loss': epoch_loss.item()}\n",
    "    \n",
    "    def epoch_end(self, epoch, result, num_epochs):\n",
    "        # Print result every 20th epoch\n",
    "        if (epoch+1) % 20 == 0 or epoch == num_epochs-1:\n",
    "            print(\"Epoch [{}], val_loss: {:.4f}\".format(epoch+1, result['val_loss']))"
   ]
  },
  {
   "cell_type": "markdown",
   "metadata": {},
   "source": [
    "Let us create a model using the `InsuranceModel` class. You may need to come back later and re-run the next cell to reinitialize the model, in case the loss becomes `nan` or `infinity`."
   ]
  },
  {
   "cell_type": "code",
   "execution_count": 33,
   "metadata": {},
   "outputs": [],
   "source": [
    "model = InsuranceModel()"
   ]
  },
  {
   "cell_type": "markdown",
   "metadata": {},
   "source": [
    "Let's check out the weights and biases of the model using `model.parameters`."
   ]
  },
  {
   "cell_type": "code",
   "execution_count": 34,
   "metadata": {},
   "outputs": [
    {
     "data": {
      "text/plain": [
       "[Parameter containing:\n",
       " tensor([[ 0.2946,  0.2493, -0.0404,  0.0458, -0.2192,  0.3195]],\n",
       "        requires_grad=True),\n",
       " Parameter containing:\n",
       " tensor([0.2994], requires_grad=True)]"
      ]
     },
     "execution_count": 34,
     "metadata": {},
     "output_type": "execute_result"
    }
   ],
   "source": [
    "list(model.parameters())"
   ]
  },
  {
   "cell_type": "markdown",
   "metadata": {},
   "source": [
    "One final commit before we train the model."
   ]
  },
  {
   "cell_type": "code",
   "execution_count": 35,
   "metadata": {},
   "outputs": [
    {
     "data": {
      "application/javascript": [
       "window.require && require([\"base/js/namespace\"],function(Jupyter){Jupyter.notebook.save_checkpoint()})"
      ],
      "text/plain": [
       "<IPython.core.display.Javascript object>"
      ]
     },
     "metadata": {},
     "output_type": "display_data"
    },
    {
     "name": "stdout",
     "output_type": "stream",
     "text": [
      "[jovian] Attempting to save notebook..\u001b[0m\n",
      "[jovian] Updating notebook \"mukundan-sankar14/02-insurance-linear-regression\" on https://jovian.ml/\u001b[0m\n",
      "[jovian] Uploading notebook..\u001b[0m\n",
      "[jovian] Committed successfully! https://jovian.ml/mukundan-sankar14/02-insurance-linear-regression\u001b[0m\n"
     ]
    },
    {
     "data": {
      "text/plain": [
       "'https://jovian.ml/mukundan-sankar14/02-insurance-linear-regression'"
      ]
     },
     "execution_count": 35,
     "metadata": {},
     "output_type": "execute_result"
    }
   ],
   "source": [
    "jovian.commit(project=project_name, environment=None)"
   ]
  },
  {
   "cell_type": "markdown",
   "metadata": {},
   "source": [
    "## Step 4: Train the model to fit the data\n",
    "\n",
    "To train our model, we'll use the same `fit` function explained in the lecture. That's the benefit of defining a generic training loop - you can use it for any problem."
   ]
  },
  {
   "cell_type": "code",
   "execution_count": 36,
   "metadata": {},
   "outputs": [],
   "source": [
    "def evaluate(model, val_loader):\n",
    "    outputs = [model.validation_step(batch) for batch in val_loader]\n",
    "    return model.validation_epoch_end(outputs)\n",
    "\n",
    "def fit(epochs, lr, model, train_loader, val_loader, opt_func=torch.optim.SGD):\n",
    "    history = []\n",
    "    optimizer = opt_func(model.parameters(), lr)\n",
    "    for epoch in range(epochs):\n",
    "        # Training Phase \n",
    "        for batch in train_loader:\n",
    "            loss = model.training_step(batch)\n",
    "            loss.backward()\n",
    "            optimizer.step()\n",
    "            optimizer.zero_grad()\n",
    "        # Validation phase\n",
    "        result = evaluate(model, val_loader)\n",
    "        model.epoch_end(epoch, result, epochs)\n",
    "        history.append(result)\n",
    "    return history"
   ]
  },
  {
   "cell_type": "markdown",
   "metadata": {},
   "source": [
    "**Q: Use the `evaluate` function to calculate the loss on the validation set before training.**"
   ]
  },
  {
   "cell_type": "code",
   "execution_count": 37,
   "metadata": {},
   "outputs": [
    {
     "name": "stdout",
     "output_type": "stream",
     "text": [
      "{'val_loss': 9873.2529296875}\n"
     ]
    }
   ],
   "source": [
    "result = evaluate(model,val_loader) # Use the the evaluate function\n",
    "print(result)"
   ]
  },
  {
   "cell_type": "markdown",
   "metadata": {},
   "source": [
    "\n",
    "We are now ready to train the model. You may need to run the training loop many times, for different number of epochs and with different learning rates, to get a good result. Also, if your loss becomes too large (or `nan`), you may have to re-initialize the model by running the cell `model = InsuranceModel()`. Experiment with this for a while, and try to get to as low a loss as possible."
   ]
  },
  {
   "cell_type": "markdown",
   "metadata": {},
   "source": [
    "**Q: Train the model 4-5 times with different learning rates & for different number of epochs.**\n",
    "\n",
    "Hint: Vary learning rates by orders of 10 (e.g. `1e-2`, `1e-3`, `1e-4`, `1e-5`, `1e-6`) to figure out what works."
   ]
  },
  {
   "cell_type": "code",
   "execution_count": 38,
   "metadata": {},
   "outputs": [
    {
     "name": "stdout",
     "output_type": "stream",
     "text": [
      "Epoch [10], val_loss: 1493759.0000\n"
     ]
    }
   ],
   "source": [
    "epochs = 10\n",
    "lr = 1e-2\n",
    "history1 = fit(epochs, lr, model, train_loader, val_loader)"
   ]
  },
  {
   "cell_type": "code",
   "execution_count": 39,
   "metadata": {},
   "outputs": [
    {
     "name": "stdout",
     "output_type": "stream",
     "text": [
      "Epoch [20], val_loss: 185970.4844\n",
      "Epoch [40], val_loss: 165032.6719\n",
      "Epoch [60], val_loss: 4332.4331\n",
      "Epoch [80], val_loss: 72857.0156\n",
      "Epoch [100], val_loss: 43604.8555\n"
     ]
    }
   ],
   "source": [
    "epochs = 100\n",
    "lr = 1e-3\n",
    "history2 = fit(epochs, lr, model, train_loader, val_loader)"
   ]
  },
  {
   "cell_type": "code",
   "execution_count": 40,
   "metadata": {},
   "outputs": [
    {
     "name": "stdout",
     "output_type": "stream",
     "text": [
      "Epoch [20], val_loss: 13631.0713\n",
      "Epoch [40], val_loss: 3616.7871\n",
      "Epoch [60], val_loss: 144.4063\n",
      "Epoch [80], val_loss: 12191.6055\n",
      "Epoch [100], val_loss: 16574.4414\n"
     ]
    }
   ],
   "source": [
    "epochs = 100\n",
    "lr = 1e-4\n",
    "history3 = fit(epochs, lr, model, train_loader, val_loader)"
   ]
  },
  {
   "cell_type": "code",
   "execution_count": 41,
   "metadata": {},
   "outputs": [
    {
     "name": "stdout",
     "output_type": "stream",
     "text": [
      "Epoch [20], val_loss: 1072.3149\n",
      "Epoch [40], val_loss: 1735.3323\n",
      "Epoch [60], val_loss: 311.4944\n"
     ]
    }
   ],
   "source": [
    "epochs = 60\n",
    "lr = 1e-5\n",
    "history4 = fit(epochs, lr, model, train_loader, val_loader)"
   ]
  },
  {
   "cell_type": "code",
   "execution_count": 42,
   "metadata": {},
   "outputs": [
    {
     "name": "stdout",
     "output_type": "stream",
     "text": [
      "Epoch [10], val_loss: 9.8934\n"
     ]
    }
   ],
   "source": [
    "epochs = 10\n",
    "lr = 1e-6\n",
    "history5 = fit(epochs, lr, model, train_loader, val_loader)"
   ]
  },
  {
   "cell_type": "code",
   "execution_count": 43,
   "metadata": {},
   "outputs": [
    {
     "name": "stdout",
     "output_type": "stream",
     "text": [
      "Epoch [10], val_loss: 6.2985\n"
     ]
    }
   ],
   "source": [
    "epochs = 10\n",
    "lr = 1e-7\n",
    "history5 = fit(epochs, lr, model, train_loader, val_loader)"
   ]
  },
  {
   "cell_type": "markdown",
   "metadata": {},
   "source": [
    "**Q: What is the final validation loss of your model?**"
   ]
  },
  {
   "cell_type": "code",
   "execution_count": 45,
   "metadata": {},
   "outputs": [],
   "source": [
    "val_loss = 6.2985 #with 10 epochs and 1e-7 learning rate"
   ]
  },
  {
   "cell_type": "markdown",
   "metadata": {},
   "source": [
    "Let's log the final validation loss to Jovian and commit the notebook"
   ]
  },
  {
   "cell_type": "code",
   "execution_count": 46,
   "metadata": {},
   "outputs": [
    {
     "name": "stdout",
     "output_type": "stream",
     "text": [
      "[jovian] Metrics logged.\u001b[0m\n"
     ]
    }
   ],
   "source": [
    "jovian.log_metrics(val_loss=val_loss)"
   ]
  },
  {
   "cell_type": "code",
   "execution_count": 47,
   "metadata": {},
   "outputs": [
    {
     "data": {
      "application/javascript": [
       "window.require && require([\"base/js/namespace\"],function(Jupyter){Jupyter.notebook.save_checkpoint()})"
      ],
      "text/plain": [
       "<IPython.core.display.Javascript object>"
      ]
     },
     "metadata": {},
     "output_type": "display_data"
    },
    {
     "name": "stdout",
     "output_type": "stream",
     "text": [
      "[jovian] Attempting to save notebook..\u001b[0m\n",
      "[jovian] Updating notebook \"mukundan-sankar14/02-insurance-linear-regression\" on https://jovian.ml/\u001b[0m\n",
      "[jovian] Uploading notebook..\u001b[0m\n",
      "[jovian] Attaching records (metrics, hyperparameters, dataset etc.)\u001b[0m\n",
      "[jovian] Committed successfully! https://jovian.ml/mukundan-sankar14/02-insurance-linear-regression\u001b[0m\n"
     ]
    },
    {
     "data": {
      "text/plain": [
       "'https://jovian.ml/mukundan-sankar14/02-insurance-linear-regression'"
      ]
     },
     "execution_count": 47,
     "metadata": {},
     "output_type": "execute_result"
    }
   ],
   "source": [
    "jovian.commit(project=project_name, environment=None)"
   ]
  },
  {
   "cell_type": "markdown",
   "metadata": {},
   "source": [
    "Now scroll back up, re-initialize the model, and try different set of values for batch size, number of epochs, learning rate etc. Commit each experiment and use the \"Compare\" and \"View Diff\" options on Jovian to compare the different results."
   ]
  },
  {
   "cell_type": "markdown",
   "metadata": {},
   "source": [
    "## Step 5: Make predictions using the trained model\n",
    "\n",
    "**Q: Complete the following function definition to make predictions on a single input**"
   ]
  },
  {
   "cell_type": "code",
   "execution_count": 48,
   "metadata": {},
   "outputs": [],
   "source": [
    "def predict_single(input, target, model):\n",
    "    inputs = input.unsqueeze(0)\n",
    "    predictions = model(inputs)                # fill this\n",
    "    prediction = predictions[0].detach()\n",
    "    print(\"Input:\", input)\n",
    "    print(\"Target:\", target)\n",
    "    print(\"Prediction:\", prediction)"
   ]
  },
  {
   "cell_type": "code",
   "execution_count": 49,
   "metadata": {},
   "outputs": [
    {
     "name": "stdout",
     "output_type": "stream",
     "text": [
      "Input: tensor([4.3000e+01, 0.0000e+00, 4.1699e+01, 1.0000e+00, 0.0000e+00, 7.8599e+03])\n",
      "Target: tensor([7859.9272])\n",
      "Prediction: tensor([7856.6699])\n"
     ]
    }
   ],
   "source": [
    "input, target = val_ds[0]\n",
    "predict_single(input, target, model)"
   ]
  },
  {
   "cell_type": "code",
   "execution_count": 50,
   "metadata": {},
   "outputs": [
    {
     "name": "stdout",
     "output_type": "stream",
     "text": [
      "Input: tensor([3.8000e+01, 0.0000e+00, 2.3341e+01, 2.0000e+00, 0.0000e+00, 7.6333e+03])\n",
      "Target: tensor([7633.2759])\n",
      "Prediction: tensor([7634.4282])\n"
     ]
    }
   ],
   "source": [
    "input, target = val_ds[10]\n",
    "predict_single(input, target, model)"
   ]
  },
  {
   "cell_type": "code",
   "execution_count": 51,
   "metadata": {},
   "outputs": [
    {
     "name": "stdout",
     "output_type": "stream",
     "text": [
      "Input: tensor([6.4000e+01, 0.0000e+00, 3.5235e+01, 3.0000e+00, 0.0000e+00, 1.7608e+04])\n",
      "Target: tensor([17607.6074])\n",
      "Prediction: tensor([17608.1270])\n"
     ]
    }
   ],
   "source": [
    "input, target = val_ds[23]\n",
    "predict_single(input, target, model)"
   ]
  },
  {
   "cell_type": "markdown",
   "metadata": {},
   "source": [
    "Are you happy with your model's predictions? Try to improve them further."
   ]
  },
  {
   "cell_type": "markdown",
   "metadata": {},
   "source": [
    "## (Optional) Step 6: Try another dataset & blog about it\n",
    "\n",
    "While this last step is optional for the submission of your assignment, we highly recommend that you do it. Try to clean up & replicate this notebook (or [this one](https://jovian.ml/aakashns/housing-linear-minimal), or [this one](https://jovian.ml/aakashns/mnist-logistic-minimal) ) for a different linear regression or logistic regression problem. This will help solidify your understanding, and give you a chance to differentiate the generic patters in machine learning from problem-specific details.\n",
    "\n",
    "Here are some sources to find good datasets:\n",
    "\n",
    "- https://lionbridge.ai/datasets/10-open-datasets-for-linear-regression/\n",
    "- https://www.kaggle.com/rtatman/datasets-for-regression-analysis\n",
    "- https://archive.ics.uci.edu/ml/datasets.php?format=&task=reg&att=&area=&numAtt=&numIns=&type=&sort=nameUp&view=table\n",
    "- https://people.sc.fsu.edu/~jburkardt/datasets/regression/regression.html\n",
    "- https://archive.ics.uci.edu/ml/datasets/wine+quality\n",
    "- https://pytorch.org/docs/stable/torchvision/datasets.html\n",
    "\n",
    "We also recommend that you write a blog about your approach to the problem. Here is a suggested structure for your post (feel free to experiment with it):\n",
    "\n",
    "- Interesting title & subtitle\n",
    "- Overview of what the blog covers (which dataset, linear regression or logistic regression, intro to PyTorch)\n",
    "- Downloading & exploring the data\n",
    "- Preparing the data for training\n",
    "- Creating a model using PyTorch\n",
    "- Training the model to fit the data\n",
    "- Your thoughts on how to experiment with different hyperparmeters to reduce loss\n",
    "- Making predictions using the model\n",
    "\n",
    "As with the previous assignment, you can [embed Juptyer notebook cells & outputs from Jovian](https://medium.com/jovianml/share-and-embed-jupyter-notebooks-online-with-jovian-ml-df709a03064e) into your blog. \n",
    "\n",
    "Don't forget to share your work on the forum: https://jovian.ml/forum/t/share-your-work-here-assignment-2/4931"
   ]
  },
  {
   "cell_type": "code",
   "execution_count": 52,
   "metadata": {},
   "outputs": [
    {
     "data": {
      "application/javascript": [
       "window.require && require([\"base/js/namespace\"],function(Jupyter){Jupyter.notebook.save_checkpoint()})"
      ],
      "text/plain": [
       "<IPython.core.display.Javascript object>"
      ]
     },
     "metadata": {},
     "output_type": "display_data"
    },
    {
     "name": "stdout",
     "output_type": "stream",
     "text": [
      "[jovian] Attempting to save notebook..\u001b[0m\n",
      "[jovian] Updating notebook \"mukundan-sankar14/02-insurance-linear-regression\" on https://jovian.ml/\u001b[0m\n",
      "[jovian] Uploading notebook..\u001b[0m\n",
      "[jovian] Attaching records (metrics, hyperparameters, dataset etc.)\u001b[0m\n",
      "[jovian] Committed successfully! https://jovian.ml/mukundan-sankar14/02-insurance-linear-regression\u001b[0m\n"
     ]
    },
    {
     "data": {
      "application/javascript": [
       "window.require && require([\"base/js/namespace\"],function(Jupyter){Jupyter.notebook.save_checkpoint()})"
      ],
      "text/plain": [
       "<IPython.core.display.Javascript object>"
      ]
     },
     "metadata": {},
     "output_type": "display_data"
    },
    {
     "name": "stdout",
     "output_type": "stream",
     "text": [
      "[jovian] Attempting to save notebook..\u001b[0m\n",
      "[jovian] Updating notebook \"mukundan-sankar14/02-insurance-linear-regression\" on https://jovian.ml/\u001b[0m\n",
      "[jovian] Uploading notebook..\u001b[0m\n",
      "[jovian] Attaching records (metrics, hyperparameters, dataset etc.)\u001b[0m\n",
      "[jovian] Committed successfully! https://jovian.ml/mukundan-sankar14/02-insurance-linear-regression\u001b[0m\n"
     ]
    },
    {
     "data": {
      "text/plain": [
       "'https://jovian.ml/mukundan-sankar14/02-insurance-linear-regression'"
      ]
     },
     "execution_count": 52,
     "metadata": {},
     "output_type": "execute_result"
    }
   ],
   "source": [
    "jovian.commit(project=project_name, environment=None)\n",
    "jovian.commit(project=project_name, environment=None) # try again, kaggle fails sometimes"
   ]
  },
  {
   "cell_type": "code",
   "execution_count": null,
   "metadata": {},
   "outputs": [],
   "source": []
  }
 ],
 "metadata": {
  "kernelspec": {
   "display_name": "Python 3",
   "language": "python",
   "name": "python3"
  },
  "language_info": {
   "codemirror_mode": {
    "name": "ipython",
    "version": 3
   },
   "file_extension": ".py",
   "mimetype": "text/x-python",
   "name": "python",
   "nbconvert_exporter": "python",
   "pygments_lexer": "ipython3",
   "version": "3.7.6"
  }
 },
 "nbformat": 4,
 "nbformat_minor": 4
}
